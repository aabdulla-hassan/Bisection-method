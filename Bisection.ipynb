{
  "nbformat": 4,
  "nbformat_minor": 0,
  "metadata": {
    "colab": {
      "provenance": [],
      "collapsed_sections": [],
      "authorship_tag": "ABX9TyNIbd+/hv6pyPPppN1LXXr3",
      "include_colab_link": true
    },
    "kernelspec": {
      "name": "python3",
      "display_name": "Python 3"
    },
    "language_info": {
      "name": "python"
    }
  },
  "cells": [
    {
      "cell_type": "markdown",
      "metadata": {
        "id": "view-in-github",
        "colab_type": "text"
      },
      "source": [
        "<a href=\"https://colab.research.google.com/github/aabdulla-hassan/Bisection-method/blob/main/Bisection.ipynb\" target=\"_parent\"><img src=\"https://colab.research.google.com/assets/colab-badge.svg\" alt=\"Open In Colab\"/></a>"
      ]
    },
    {
      "cell_type": "code",
      "execution_count": 2,
      "metadata": {
        "colab": {
          "base_uri": "https://localhost:8080/"
        },
        "id": "mnWH3CBq5saF",
        "outputId": "e6048056-6eea-4576-e871-8536d2b96448"
      },
      "outputs": [
        {
          "output_type": "stream",
          "name": "stdout",
          "text": [
            "From : 2\n",
            "To : -2\n",
            "Solution   :  1.3247179572447458\n",
            "--------------------\n",
            "From : 1\n",
            "To : 4\n",
            "Solution   :  1.3247179572447458\n"
          ]
        }
      ],
      "source": [
        "  def bisectionMethod(function , a , b ):\n",
        "    faInterval = f(a)\n",
        "    fbInterval = f(b)\n",
        "\n",
        "    if faInterval * fbInterval > 0:\n",
        "        print(\"f(a) and f(b) Must Be Different Signs To Find The root \")\n",
        "        return None\n",
        "\n",
        "    for _ in range(100): \n",
        "        c = (a + b) / 2\n",
        "        fc = f(c)\n",
        "\n",
        "        if fc == 0:\n",
        "            return c\n",
        "        if faInterval * fc > 0:\n",
        "            a = c\n",
        "            faInterval = fc\n",
        "        if fbInterval * fc > 0:\n",
        "            b = c\n",
        "            fbInterval = fc\n",
        "\n",
        "    return c\n",
        "\n",
        "\n",
        "function = lambda x: x**2 - x + 2\n",
        "\n",
        "a = 2\n",
        "b = -2\n",
        "print(f\"From : {a}\")\n",
        "print(f\"To : {b}\")\n",
        "root= bisectionMethod(function, a, b)\n",
        "\n",
        "print(f\"Solution   :  {root}\")\n",
        "print(\"--------------------\")\n",
        "a = 1\n",
        "b = 4\n",
        "\n",
        "print(f\"From : {a}\")\n",
        "print(f\"To : {b}\")\n",
        "\n",
        "root= bisectionMethod(function, a, b)\n",
        "\n",
        "print(f\"Solution   :  {root}\")"
      ]
    }
  ]
}